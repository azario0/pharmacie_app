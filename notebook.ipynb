{
 "cells": [
  {
   "cell_type": "markdown",
   "metadata": {},
   "source": [
    "# Importation de pandas"
   ]
  },
  {
   "cell_type": "code",
   "execution_count": 1,
   "metadata": {},
   "outputs": [],
   "source": [
    "import pandas as pd "
   ]
  },
  {
   "cell_type": "markdown",
   "metadata": {},
   "source": [
    "# Lecture du csv"
   ]
  },
  {
   "cell_type": "code",
   "execution_count": 18,
   "metadata": {},
   "outputs": [],
   "source": [
    "df = pd.read_csv('medicine_dataset.csv')"
   ]
  },
  {
   "cell_type": "markdown",
   "metadata": {},
   "source": [
    "# Consultation du csv"
   ]
  },
  {
   "cell_type": "code",
   "execution_count": 19,
   "metadata": {},
   "outputs": [
    {
     "data": {
      "text/html": [
       "<div>\n",
       "<style scoped>\n",
       "    .dataframe tbody tr th:only-of-type {\n",
       "        vertical-align: middle;\n",
       "    }\n",
       "\n",
       "    .dataframe tbody tr th {\n",
       "        vertical-align: top;\n",
       "    }\n",
       "\n",
       "    .dataframe thead th {\n",
       "        text-align: right;\n",
       "    }\n",
       "</style>\n",
       "<table border=\"1\" class=\"dataframe\">\n",
       "  <thead>\n",
       "    <tr style=\"text-align: right;\">\n",
       "      <th></th>\n",
       "      <th>Name</th>\n",
       "      <th>Category</th>\n",
       "      <th>Dosage Form</th>\n",
       "      <th>Strength</th>\n",
       "      <th>Manufacturer</th>\n",
       "      <th>Indication</th>\n",
       "      <th>Classification</th>\n",
       "    </tr>\n",
       "  </thead>\n",
       "  <tbody>\n",
       "    <tr>\n",
       "      <th>0</th>\n",
       "      <td>Acetocillin</td>\n",
       "      <td>Antidiabetic</td>\n",
       "      <td>Cream</td>\n",
       "      <td>938 mg</td>\n",
       "      <td>Roche Holding AG</td>\n",
       "      <td>Virus</td>\n",
       "      <td>Over-the-Counter</td>\n",
       "    </tr>\n",
       "    <tr>\n",
       "      <th>1</th>\n",
       "      <td>Ibuprocillin</td>\n",
       "      <td>Antiviral</td>\n",
       "      <td>Injection</td>\n",
       "      <td>337 mg</td>\n",
       "      <td>CSL Limited</td>\n",
       "      <td>Infection</td>\n",
       "      <td>Over-the-Counter</td>\n",
       "    </tr>\n",
       "    <tr>\n",
       "      <th>2</th>\n",
       "      <td>Dextrophen</td>\n",
       "      <td>Antibiotic</td>\n",
       "      <td>Ointment</td>\n",
       "      <td>333 mg</td>\n",
       "      <td>Johnson &amp; Johnson</td>\n",
       "      <td>Wound</td>\n",
       "      <td>Prescription</td>\n",
       "    </tr>\n",
       "    <tr>\n",
       "      <th>3</th>\n",
       "      <td>Clarinazole</td>\n",
       "      <td>Antifungal</td>\n",
       "      <td>Syrup</td>\n",
       "      <td>362 mg</td>\n",
       "      <td>AbbVie Inc.</td>\n",
       "      <td>Pain</td>\n",
       "      <td>Prescription</td>\n",
       "    </tr>\n",
       "    <tr>\n",
       "      <th>4</th>\n",
       "      <td>Amoxicillin</td>\n",
       "      <td>Antifungal</td>\n",
       "      <td>Tablet</td>\n",
       "      <td>802 mg</td>\n",
       "      <td>Teva Pharmaceutical Industries Ltd.</td>\n",
       "      <td>Wound</td>\n",
       "      <td>Over-the-Counter</td>\n",
       "    </tr>\n",
       "  </tbody>\n",
       "</table>\n",
       "</div>"
      ],
      "text/plain": [
       "           Name      Category Dosage Form Strength  \\\n",
       "0   Acetocillin  Antidiabetic       Cream   938 mg   \n",
       "1  Ibuprocillin     Antiviral   Injection   337 mg   \n",
       "2    Dextrophen    Antibiotic    Ointment   333 mg   \n",
       "3   Clarinazole    Antifungal       Syrup   362 mg   \n",
       "4   Amoxicillin    Antifungal      Tablet   802 mg   \n",
       "\n",
       "                          Manufacturer Indication    Classification  \n",
       "0                     Roche Holding AG      Virus  Over-the-Counter  \n",
       "1                          CSL Limited  Infection  Over-the-Counter  \n",
       "2                    Johnson & Johnson      Wound      Prescription  \n",
       "3                          AbbVie Inc.       Pain      Prescription  \n",
       "4  Teva Pharmaceutical Industries Ltd.      Wound  Over-the-Counter  "
      ]
     },
     "execution_count": 19,
     "metadata": {},
     "output_type": "execute_result"
    }
   ],
   "source": [
    "df.head()"
   ]
  },
  {
   "cell_type": "code",
   "execution_count": 20,
   "metadata": {},
   "outputs": [
    {
     "data": {
      "text/plain": [
       "Name              0\n",
       "Category          0\n",
       "Dosage Form       0\n",
       "Strength          0\n",
       "Manufacturer      0\n",
       "Indication        0\n",
       "Classification    0\n",
       "dtype: int64"
      ]
     },
     "execution_count": 20,
     "metadata": {},
     "output_type": "execute_result"
    }
   ],
   "source": [
    "df.isnull().sum()"
   ]
  },
  {
   "cell_type": "markdown",
   "metadata": {},
   "source": [
    "# Recherche du medicament"
   ]
  },
  {
   "cell_type": "code",
   "execution_count": 21,
   "metadata": {},
   "outputs": [
    {
     "data": {
      "text/html": [
       "<div>\n",
       "<style scoped>\n",
       "    .dataframe tbody tr th:only-of-type {\n",
       "        vertical-align: middle;\n",
       "    }\n",
       "\n",
       "    .dataframe tbody tr th {\n",
       "        vertical-align: top;\n",
       "    }\n",
       "\n",
       "    .dataframe thead th {\n",
       "        text-align: right;\n",
       "    }\n",
       "</style>\n",
       "<table border=\"1\" class=\"dataframe\">\n",
       "  <thead>\n",
       "    <tr style=\"text-align: right;\">\n",
       "      <th></th>\n",
       "      <th>Name</th>\n",
       "      <th>Category</th>\n",
       "      <th>Dosage Form</th>\n",
       "      <th>Strength</th>\n",
       "      <th>Manufacturer</th>\n",
       "      <th>Indication</th>\n",
       "      <th>Classification</th>\n",
       "    </tr>\n",
       "  </thead>\n",
       "  <tbody>\n",
       "    <tr>\n",
       "      <th>0</th>\n",
       "      <td>Acetocillin</td>\n",
       "      <td>Antidiabetic</td>\n",
       "      <td>Cream</td>\n",
       "      <td>938 mg</td>\n",
       "      <td>Roche Holding AG</td>\n",
       "      <td>Virus</td>\n",
       "      <td>Over-the-Counter</td>\n",
       "    </tr>\n",
       "    <tr>\n",
       "      <th>149</th>\n",
       "      <td>Acetocillin</td>\n",
       "      <td>Antiseptic</td>\n",
       "      <td>Capsule</td>\n",
       "      <td>263 mg</td>\n",
       "      <td>GlaxoSmithKline plc</td>\n",
       "      <td>Virus</td>\n",
       "      <td>Over-the-Counter</td>\n",
       "    </tr>\n",
       "    <tr>\n",
       "      <th>206</th>\n",
       "      <td>Acetocillin</td>\n",
       "      <td>Antidepressant</td>\n",
       "      <td>Ointment</td>\n",
       "      <td>765 mg</td>\n",
       "      <td>Bristol-Myers Squibb Company</td>\n",
       "      <td>Fever</td>\n",
       "      <td>Prescription</td>\n",
       "    </tr>\n",
       "    <tr>\n",
       "      <th>279</th>\n",
       "      <td>Acetocillin</td>\n",
       "      <td>Antibiotic</td>\n",
       "      <td>Inhaler</td>\n",
       "      <td>742 mg</td>\n",
       "      <td>Merck &amp; Co., Inc.</td>\n",
       "      <td>Depression</td>\n",
       "      <td>Over-the-Counter</td>\n",
       "    </tr>\n",
       "    <tr>\n",
       "      <th>403</th>\n",
       "      <td>Acetocillin</td>\n",
       "      <td>Analgesic</td>\n",
       "      <td>Tablet</td>\n",
       "      <td>716 mg</td>\n",
       "      <td>Novartis AG</td>\n",
       "      <td>Fungus</td>\n",
       "      <td>Prescription</td>\n",
       "    </tr>\n",
       "    <tr>\n",
       "      <th>...</th>\n",
       "      <td>...</td>\n",
       "      <td>...</td>\n",
       "      <td>...</td>\n",
       "      <td>...</td>\n",
       "      <td>...</td>\n",
       "      <td>...</td>\n",
       "      <td>...</td>\n",
       "    </tr>\n",
       "    <tr>\n",
       "      <th>49909</th>\n",
       "      <td>Acetocillin</td>\n",
       "      <td>Antidiabetic</td>\n",
       "      <td>Cream</td>\n",
       "      <td>622 mg</td>\n",
       "      <td>Gilead Sciences, Inc.</td>\n",
       "      <td>Depression</td>\n",
       "      <td>Over-the-Counter</td>\n",
       "    </tr>\n",
       "    <tr>\n",
       "      <th>49936</th>\n",
       "      <td>Acetocillin</td>\n",
       "      <td>Antifungal</td>\n",
       "      <td>Cream</td>\n",
       "      <td>219 mg</td>\n",
       "      <td>GlaxoSmithKline plc</td>\n",
       "      <td>Fungus</td>\n",
       "      <td>Over-the-Counter</td>\n",
       "    </tr>\n",
       "    <tr>\n",
       "      <th>49944</th>\n",
       "      <td>Acetocillin</td>\n",
       "      <td>Antipyretic</td>\n",
       "      <td>Tablet</td>\n",
       "      <td>789 mg</td>\n",
       "      <td>AstraZeneca plc</td>\n",
       "      <td>Fungus</td>\n",
       "      <td>Prescription</td>\n",
       "    </tr>\n",
       "    <tr>\n",
       "      <th>49947</th>\n",
       "      <td>Acetocillin</td>\n",
       "      <td>Antidepressant</td>\n",
       "      <td>Syrup</td>\n",
       "      <td>91 mg</td>\n",
       "      <td>Teva Pharmaceutical Industries Ltd.</td>\n",
       "      <td>Infection</td>\n",
       "      <td>Over-the-Counter</td>\n",
       "    </tr>\n",
       "    <tr>\n",
       "      <th>49991</th>\n",
       "      <td>Acetocillin</td>\n",
       "      <td>Antipyretic</td>\n",
       "      <td>Injection</td>\n",
       "      <td>209 mg</td>\n",
       "      <td>Teva Pharmaceutical Industries Ltd.</td>\n",
       "      <td>Fever</td>\n",
       "      <td>Prescription</td>\n",
       "    </tr>\n",
       "  </tbody>\n",
       "</table>\n",
       "<p>810 rows × 7 columns</p>\n",
       "</div>"
      ],
      "text/plain": [
       "              Name        Category Dosage Form Strength  \\\n",
       "0      Acetocillin    Antidiabetic       Cream   938 mg   \n",
       "149    Acetocillin      Antiseptic     Capsule   263 mg   \n",
       "206    Acetocillin  Antidepressant    Ointment   765 mg   \n",
       "279    Acetocillin      Antibiotic     Inhaler   742 mg   \n",
       "403    Acetocillin       Analgesic      Tablet   716 mg   \n",
       "...            ...             ...         ...      ...   \n",
       "49909  Acetocillin    Antidiabetic       Cream   622 mg   \n",
       "49936  Acetocillin      Antifungal       Cream   219 mg   \n",
       "49944  Acetocillin     Antipyretic      Tablet   789 mg   \n",
       "49947  Acetocillin  Antidepressant       Syrup    91 mg   \n",
       "49991  Acetocillin     Antipyretic   Injection   209 mg   \n",
       "\n",
       "                              Manufacturer  Indication    Classification  \n",
       "0                         Roche Holding AG       Virus  Over-the-Counter  \n",
       "149                    GlaxoSmithKline plc       Virus  Over-the-Counter  \n",
       "206           Bristol-Myers Squibb Company       Fever      Prescription  \n",
       "279                      Merck & Co., Inc.  Depression  Over-the-Counter  \n",
       "403                            Novartis AG      Fungus      Prescription  \n",
       "...                                    ...         ...               ...  \n",
       "49909                Gilead Sciences, Inc.  Depression  Over-the-Counter  \n",
       "49936                  GlaxoSmithKline plc      Fungus  Over-the-Counter  \n",
       "49944                      AstraZeneca plc      Fungus      Prescription  \n",
       "49947  Teva Pharmaceutical Industries Ltd.   Infection  Over-the-Counter  \n",
       "49991  Teva Pharmaceutical Industries Ltd.       Fever      Prescription  \n",
       "\n",
       "[810 rows x 7 columns]"
      ]
     },
     "execution_count": 21,
     "metadata": {},
     "output_type": "execute_result"
    }
   ],
   "source": [
    "def search_medicine(name):\n",
    "    result = df[df['Name'].str.lower() == name.lower()]\n",
    "    if result.empty:\n",
    "        print(f\"No medicine found with the name '{name}'.\")\n",
    "    else:\n",
    "        return result\n",
    "\n",
    "# Example usage\n",
    "search_medicine(\"Acetocillin\")"
   ]
  },
  {
   "cell_type": "markdown",
   "metadata": {},
   "source": [
    "# Modification du medicament"
   ]
  },
  {
   "cell_type": "code",
   "execution_count": 23,
   "metadata": {},
   "outputs": [
    {
     "name": "stdout",
     "output_type": "stream",
     "text": [
      "Medication updated successfully.\n"
     ]
    }
   ],
   "source": [
    "def modify_medicine(csv_path, name, category, dosage_form, strength, manufacturer, indication, classification):\n",
    "    # Read the CSV file\n",
    "    df = pd.read_csv(csv_path)\n",
    "    \n",
    "    # Find the exact match\n",
    "    mask = (df['Name'] == name) & \\\n",
    "           (df['Category'] == category) & \\\n",
    "           (df['Dosage Form'] == dosage_form) & \\\n",
    "           (df['Strength'] == strength) & \\\n",
    "           (df['Manufacturer'] == manufacturer) & \\\n",
    "           (df['Indication'] == indication) & \\\n",
    "           (df['Classification'] == classification)\n",
    "    \n",
    "    if mask.sum() == 0:\n",
    "        print(\"No exact match found.\")\n",
    "        return\n",
    "    \n",
    "    # Ask for new values\n",
    "    new_values = {}\n",
    "    for column in df.columns:\n",
    "        new_value = input(f\"Enter new value for {column} (press Enter to keep current value): \")\n",
    "        if new_value:\n",
    "            new_values[column] = new_value\n",
    "    \n",
    "    # Update the dataframe\n",
    "    df.loc[mask, new_values.keys()] = new_values.values()\n",
    "    \n",
    "    # Save the updated dataframe\n",
    "    df.to_csv('test.csv', index=False)\n",
    "    print(\"Medication updated successfully.\")\n",
    "\n",
    "modify_medicine(\n",
    "    'medicine_dataset.csv',\n",
    "    name=\"Acetocillin\",\n",
    "    category=\"Antidiabetic\",\n",
    "    dosage_form=\"Cream\",\n",
    "    strength=\"938 mg\",\n",
    "    manufacturer=\"Roche Holding AG\",\n",
    "    indication=\"Virus\",\n",
    "    classification=\"Over-the-Counter\"\n",
    ")"
   ]
  },
  {
   "cell_type": "markdown",
   "metadata": {},
   "source": [
    "# Ajout de medicament"
   ]
  },
  {
   "cell_type": "code",
   "execution_count": 15,
   "metadata": {},
   "outputs": [
    {
     "name": "stdout",
     "output_type": "stream",
     "text": [
      "Added New Medicine to the database.\n"
     ]
    }
   ],
   "source": [
    "def add_medicine(new_medicine):\n",
    "    global df\n",
    "    df = pd.concat([df, pd.DataFrame([new_medicine])], ignore_index=True)\n",
    "    print(f\"Added {new_medicine['Name']} to the database.\")\n",
    "    # Don't forget to save changes to CSV\n",
    "    df.to_csv('medications.csv', index=False)\n",
    "\n",
    "# Example usage\n",
    "new_med = {\n",
    "    \"Name\": \"New Medicine\",\n",
    "    \"Category\": \"Antibiotic\",\n",
    "    \"Dosage Form\": \"Capsule\",\n",
    "    \"Strength\": \"250mg\",\n",
    "    \"Manufacturer\": \"PharmaCo\",\n",
    "    \"Indication\": \"Bacterial infections\",\n",
    "    \"Classification\": \"Prescription\"\n",
    "}\n",
    "add_medicine(new_med)"
   ]
  }
 ],
 "metadata": {
  "kernelspec": {
   "display_name": "Python 3",
   "language": "python",
   "name": "python3"
  },
  "language_info": {
   "codemirror_mode": {
    "name": "ipython",
    "version": 3
   },
   "file_extension": ".py",
   "mimetype": "text/x-python",
   "name": "python",
   "nbconvert_exporter": "python",
   "pygments_lexer": "ipython3",
   "version": "3.10.12"
  }
 },
 "nbformat": 4,
 "nbformat_minor": 2
}
